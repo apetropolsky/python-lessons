{
 "cells": [
  {
   "cell_type": "markdown",
   "metadata": {
    "collapsed": false,
    "jupyter": {
     "outputs_hidden": false
    }
   },
   "source": [
    "## Дзен Python\n",
    "\n",
    "    Красивое лучше, чем уродливое.\n",
    "    Явное лучше, чем неявное.\n",
    "    Простое лучше, чем сложное.\n",
    "    Сложное лучше, чем запутанное.\n",
    "    Плоское лучше, чем вложенное.\n",
    "    Разреженное лучше, чем плотное.\n",
    "    Читаемость имеет значение.\n",
    "    Особые случаи не настолько особые, чтобы нарушать правила.\n",
    "    Хотя практичность важнее безупречности.\n",
    "    Ошибки никогда не должны замалчиваться.\n",
    "    Если они не замалчиваются явно.\n",
    "    Встретив двусмысленность, отбрось искушение угадать.\n",
    "    Должен существовать один и, желательно, только один очевидный способ сделать это.\n",
    "    Хотя он поначалу может быть и не очевиден, если вы не голландец.\n",
    "    Сейчас лучше, чем никогда.\n",
    "    Хотя никогда зачастую лучше, чем прямо сейчас.\n",
    "    Если реализацию сложно объяснить — идея плоха.\n",
    "    Если реализацию легко объяснить — идея, возможно, хороша.\n",
    "    Пространства имён — отличная штука! Будем делать их больше!\n",
    "\n",
    "\n",
    "The Zen of Python, by Tim Peters\n",
    "\n",
    "Beautiful is better than ugly.\n",
    "Explicit is better than implicit.\n",
    "Simple is better than complex.\n",
    "Complex is better than complicated.\n",
    "Flat is better than nested.\n",
    "Sparse is better than dense.\n",
    "Readability counts.\n",
    "Special cases aren't special enough to break the rules.\n",
    "Although practicality beats purity.\n",
    "Errors should never pass silently.\n",
    "Unless explicitly silenced.\n",
    "In the face of ambiguity, refuse the temptation to guess.\n",
    "There should be one-- and preferably only one --obvious way to do it.\n",
    "Although that way may not be obvious at first unless you're Dutch.\n",
    "Now is better than never.\n",
    "Although never is often better than *right* now.\n",
    "If the implementation is hard to explain, it's a bad idea.\n",
    "If the implementation is easy to explain, it may be a good idea.\n",
    "Namespaces are one honking great idea -- let's do more of those!"
   ]
  },
  {
   "cell_type": "markdown",
   "metadata": {
    "collapsed": false,
    "jupyter": {
     "outputs_hidden": false
    }
   },
   "source": [
    "### Красивое лучше, чем уродливое"
   ]
  },
  {
   "cell_type": "code",
   "execution_count": 1,
   "metadata": {
    "collapsed": false,
    "jupyter": {
     "outputs_hidden": false
    }
   },
   "outputs": [
    {
     "ename": "NameError",
     "evalue": "name 'prices' is not defined",
     "output_type": "error",
     "traceback": [
      "\u001B[0;31m---------------------------------------------------------------------------\u001B[0m",
      "\u001B[0;31mNameError\u001B[0m                                 Traceback (most recent call last)",
      "Cell \u001B[0;32mIn[1], line 2\u001B[0m\n\u001B[1;32m      1\u001B[0m \u001B[38;5;66;03m# Красивый код\u001B[39;00m\n\u001B[0;32m----> 2\u001B[0m total \u001B[38;5;241m=\u001B[39m \u001B[38;5;28msum\u001B[39m(\u001B[43mprices\u001B[49m)\n\u001B[1;32m      4\u001B[0m \u001B[38;5;66;03m# Уродливый код\u001B[39;00m\n\u001B[1;32m      5\u001B[0m t \u001B[38;5;241m=\u001B[39m \u001B[38;5;28msum\u001B[39m(prices)\n",
      "\u001B[0;31mNameError\u001B[0m: name 'prices' is not defined"
     ]
    }
   ],
   "source": [
    "# Красивый код\n",
    "total = sum(prices)\n",
    "\n",
    "# Уродливый код\n",
    "t = sum(prices)"
   ]
  },
  {
   "cell_type": "markdown",
   "metadata": {
    "collapsed": false,
    "jupyter": {
     "outputs_hidden": false
    }
   },
   "source": [
    "### Явное лучше, чем неявное"
   ]
  },
  {
   "cell_type": "code",
   "execution_count": null,
   "metadata": {
    "collapsed": false,
    "jupyter": {
     "outputs_hidden": false
    }
   },
   "outputs": [],
   "source": [
    "# Явный код\n",
    "from os import path\n",
    "path = path.join('directory', 'filename')\n",
    "\n",
    "# Неявный код\n",
    "from os.path import join as joinpath\n",
    "path = joinpath('directory', 'filename')  # заставляет догадываться"
   ]
  },
  {
   "cell_type": "markdown",
   "metadata": {
    "collapsed": false,
    "jupyter": {
     "outputs_hidden": false
    }
   },
   "source": [
    "### Простое лучше, чем сложное"
   ]
  },
  {
   "cell_type": "code",
   "execution_count": null,
   "metadata": {
    "collapsed": false,
    "jupyter": {
     "outputs_hidden": false
    }
   },
   "outputs": [],
   "source": [
    "# Простой код\n",
    "items = ['apples', 'bananas', 'cherries']\n",
    "for item in items:\n",
    "    print(item)\n",
    "\n",
    "# Сложный код\n",
    "items = ['apples', 'bananas', 'cherries']\n",
    "for i, item in enumerate(items):\n",
    "    print(item)"
   ]
  },
  {
   "cell_type": "markdown",
   "metadata": {
    "collapsed": false,
    "jupyter": {
     "outputs_hidden": false
    }
   },
   "source": [
    "### Сложное лучше, чем запутанное"
   ]
  },
  {
   "cell_type": "code",
   "execution_count": null,
   "metadata": {
    "collapsed": false,
    "jupyter": {
     "outputs_hidden": false
    }
   },
   "outputs": [],
   "source": [
    "# Сложный, но чёткий код\n",
    "def fibonacci(n):\n",
    "    lst = []\n",
    "    a, b = 0, 1\n",
    "    for _ in range(n):\n",
    "        a, b = b, a + b\n",
    "        lst.append(a)\n",
    "    return lst\n",
    "\n",
    "print(fibonacci(10))\n",
    "\n",
    "# Запутанный рекурсивный код\n",
    "def fibonacci(n):\n",
    "    if n <= 1:\n",
    "        return n\n",
    "    return fibonacci(n-1) + fibonacci(n-2)"
   ]
  },
  {
   "cell_type": "markdown",
   "metadata": {
    "collapsed": false,
    "jupyter": {
     "outputs_hidden": false
    }
   },
   "source": [
    "### Плоское лучше, чем вложенное"
   ]
  },
  {
   "cell_type": "code",
   "execution_count": null,
   "metadata": {
    "collapsed": false,
    "jupyter": {
     "outputs_hidden": false
    }
   },
   "outputs": [],
   "source": [
    "# Плоский код\n",
    "if user:\n",
    "    print(\"Welcome, user!\")\n",
    "\n",
    "# Вложенный код\n",
    "if user:\n",
    "    if active:\n",
    "        print(\"Welcome, active user!\")\n",
    "    else:\n",
    "        print(\"Welcome, user!\")"
   ]
  },
  {
   "cell_type": "markdown",
   "metadata": {
    "collapsed": false,
    "jupyter": {
     "outputs_hidden": false
    }
   },
   "source": [
    "### Разреженное лучше, чем плотное"
   ]
  },
  {
   "cell_type": "code",
   "execution_count": null,
   "metadata": {
    "collapsed": false,
    "jupyter": {
     "outputs_hidden": false
    }
   },
   "outputs": [],
   "source": [
    "# Разреженный код\n",
    "a = 1\n",
    "b = 2\n",
    "\n",
    "summa = a + b\n",
    "print(summa)\n",
    "\n",
    "\n",
    "# Плотный код\n",
    "a = 1\n",
    "b = 2\n",
    "summa = a + b\n",
    "print(summa)"
   ]
  },
  {
   "cell_type": "markdown",
   "metadata": {
    "collapsed": false,
    "jupyter": {
     "outputs_hidden": false
    }
   },
   "source": [
    "### Читаемость имеет значение"
   ]
  },
  {
   "cell_type": "code",
   "execution_count": null,
   "metadata": {
    "collapsed": false,
    "jupyter": {
     "outputs_hidden": false
    }
   },
   "outputs": [],
   "source": [
    "def find_user_with_most_sessions(users):\n",
    "    \"\"\"\n",
    "    Находит пользователя с максимальным количеством активных сессий.\n",
    "\n",
    "    :param users: список словарей, каждый словарь содержит информацию о пользователе\n",
    "    :type users: list of dict\n",
    "    :return: строка с именем пользователя и количеством сессий\n",
    "    :rtype: str\n",
    "    \"\"\"\n",
    "    if not users:\n",
    "        return \"Список пользователей пуст.\"\n",
    "\n",
    "    max_sessions = -1\n",
    "    user_with_max_sessions = None\n",
    "\n",
    "    for user in users:\n",
    "        if user['sessions'] > max_sessions:\n",
    "            max_sessions = user['sessions']\n",
    "            user_with_max_sessions = user['name']\n",
    "\n",
    "    return f\"Пользователь с наибольшим количеством сессий: {user_with_max_sessions}, сессий: {max_sessions}\"\n",
    "\n",
    "\n",
    "users_data = [\n",
    "    {\"name\": \"Алексей\", \"sessions\": 5},\n",
    "    {\"name\": \"Марина\", \"sessions\": 8},\n",
    "    {\"name\": \"Игорь\", \"sessions\": 3}\n",
    "] \n",
    "\n",
    "\n",
    "result = find_user_with_most_sessions(users_data)\n",
    "print(result)"
   ]
  },
  {
   "cell_type": "markdown",
   "metadata": {
    "collapsed": false,
    "jupyter": {
     "outputs_hidden": false
    }
   },
   "source": [
    "### Особые случаи не настолько особые, чтобы нарушать правила"
   ]
  },
  {
   "cell_type": "code",
   "execution_count": null,
   "metadata": {
    "collapsed": false,
    "jupyter": {
     "outputs_hidden": false
    }
   },
   "outputs": [],
   "source": [
    "# Правило\n",
    "for i in range(10):\n",
    "    print(i)\n",
    "\n",
    "# Исключение\n",
    "i = 0\n",
    "while i < 10:\n",
    "    print(i)\n",
    "    i += 1"
   ]
  },
  {
   "cell_type": "markdown",
   "metadata": {
    "collapsed": false,
    "jupyter": {
     "outputs_hidden": false
    }
   },
   "source": [
    "### Хотя практичность важнее безупречности"
   ]
  },
  {
   "cell_type": "code",
   "execution_count": null,
   "metadata": {
    "collapsed": false,
    "jupyter": {
     "outputs_hidden": false
    }
   },
   "outputs": [],
   "source": [
    "# Использование list comprehension для создания списка\n",
    "squares = [x**2 for x in range(10)]"
   ]
  },
  {
   "cell_type": "markdown",
   "metadata": {
    "collapsed": false,
    "jupyter": {
     "outputs_hidden": false
    }
   },
   "source": [
    "### Ошибки никогда не должны замалчиваться"
   ]
  },
  {
   "cell_type": "code",
   "execution_count": null,
   "metadata": {
    "collapsed": false,
    "jupyter": {
     "outputs_hidden": false
    }
   },
   "outputs": [],
   "source": [
    "try:\n",
    "    process_data(data)\n",
    "except Exception as e:\n",
    "    print(f\"Error occurred: {e}\")"
   ]
  },
  {
   "cell_type": "markdown",
   "metadata": {
    "collapsed": false,
    "jupyter": {
     "outputs_hidden": false
    }
   },
   "source": [
    "### Если они не замалчиваются явно"
   ]
  },
  {
   "cell_type": "code",
   "execution_count": null,
   "metadata": {
    "collapsed": false,
    "jupyter": {
     "outputs_hidden": false
    }
   },
   "outputs": [],
   "source": [
    "def safe_parse_int(value):\n",
    "    try:\n",
    "        return int(value)\n",
    "    except ValueError:\n",
    "        return None  # Явно игнорируем ошибку в соответствии с назначением функции"
   ]
  },
  {
   "cell_type": "markdown",
   "metadata": {
    "collapsed": false,
    "jupyter": {
     "outputs_hidden": false
    }
   },
   "source": [
    "### Встретив двусмысленность, отбрось искушение угадать"
   ]
  },
  {
   "cell_type": "code",
   "execution_count": null,
   "metadata": {
    "collapsed": false,
    "jupyter": {
     "outputs_hidden": false
    }
   },
   "outputs": [],
   "source": [
    "def get_age(age_input):\n",
    "    # Догадка, что ввод всегда корректный\n",
    "    return int(age_input)\n",
    "\n",
    "print(get_age(\"23\"))  # Работает\n",
    "print(get_age(\"двадцать три\"))  # ValueError\n",
    "\n",
    "\n",
    "def get_age(age_input):\n",
    "    try:\n",
    "        # Попытка преобразовать ввод в целое число\n",
    "        return int(age_input)\n",
    "    except ValueError:\n",
    "        # Вместо догадок — явное решение об ошибке\n",
    "        return \"Ошибка: введите числовое значение.\"\n",
    "\n",
    "print(get_age(\"23\"))  # Работает\n",
    "print(get_age(\"двадцать три\"))  # Сообщение об ошибке"
   ]
  },
  {
   "cell_type": "markdown",
   "metadata": {
    "collapsed": false,
    "jupyter": {
     "outputs_hidden": false
    }
   },
   "source": [
    "### Должен существовать один и, желательно, только один очевидный способ сделать это"
   ]
  },
  {
   "cell_type": "code",
   "execution_count": null,
   "metadata": {
    "collapsed": false,
    "jupyter": {
     "outputs_hidden": false
    }
   },
   "outputs": [],
   "source": [
    "def calculate_average(numbers):\n",
    "    return sum(numbers) / len(numbers)  # Тупое вычисление среднего"
   ]
  },
  {
   "cell_type": "markdown",
   "metadata": {
    "collapsed": false,
    "jupyter": {
     "outputs_hidden": false
    }
   },
   "source": [
    "### Хотя он поначалу может быть и не очевиден, если вы не голландец"
   ]
  },
  {
   "cell_type": "markdown",
   "metadata": {
    "collapsed": false,
    "jupyter": {
     "outputs_hidden": false
    }
   },
   "source": [
    "Гвидо ван Россум — голландец, и этот внутренний смехуёчек как бы намекает нам, что несмотря на общее стремление к\n",
    "простоте, некоторые очевидные вещи могут быть неочевидны другим. Возможно, имеет смысл проверять решения разными\n",
    "точками зрения."
   ]
  },
  {
   "cell_type": "markdown",
   "metadata": {
    "collapsed": false,
    "jupyter": {
     "outputs_hidden": false
    }
   },
   "source": [
    "### Сейчас лучше, чем никогда"
   ]
  },
  {
   "cell_type": "markdown",
   "metadata": {
    "collapsed": false,
    "jupyter": {
     "outputs_hidden": false
    }
   },
   "source": [
    "Не тупи и делай."
   ]
  },
  {
   "cell_type": "markdown",
   "metadata": {
    "collapsed": false,
    "jupyter": {
     "outputs_hidden": false
    }
   },
   "source": [
    "### Хотя никогда зачастую лучше, чем прямо сейчас"
   ]
  },
  {
   "cell_type": "markdown",
   "metadata": {
    "collapsed": false,
    "jupyter": {
     "outputs_hidden": false
    }
   },
   "source": [
    "Но не торопись и делай вдумчиво."
   ]
  },
  {
   "cell_type": "markdown",
   "metadata": {
    "collapsed": false,
    "jupyter": {
     "outputs_hidden": false
    }
   },
   "source": [
    "### Если реализацию сложно объяснить — идея плоха"
   ]
  },
  {
   "cell_type": "code",
   "execution_count": null,
   "metadata": {
    "collapsed": false,
    "jupyter": {
     "outputs_hidden": false
    }
   },
   "outputs": [],
   "source": [
    "def format_name(input_name):\n",
    "    return ', '.join(reversed(input_name.split()))\n",
    "\n",
    "print(format_name(\"Иван Иванов\"))  # Выводит \"Иванов, Иван\""
   ]
  },
  {
   "cell_type": "markdown",
   "metadata": {
    "collapsed": false,
    "jupyter": {
     "outputs_hidden": false
    }
   },
   "source": [
    "### Если реализацию легко объяснить — идея, возможно, хороша"
   ]
  },
  {
   "cell_type": "code",
   "execution_count": null,
   "metadata": {
    "collapsed": false,
    "jupyter": {
     "outputs_hidden": false
    }
   },
   "outputs": [],
   "source": [
    "def format_name(input_name):\n",
    "    first_name, last_name = input_name.split()\n",
    "    return f\"{last_name}, {first_name}\"\n",
    "\n",
    "print(format_name(\"Иван Иванов\"))  # Выводит \"Иванов, Иван\""
   ]
  },
  {
   "cell_type": "markdown",
   "metadata": {
    "collapsed": false,
    "jupyter": {
     "outputs_hidden": false
    }
   },
   "source": [
    "### Пространства имён — отличная штука! Будем делать их больше!"
   ]
  },
  {
   "cell_type": "code",
   "execution_count": null,
   "metadata": {
    "collapsed": false,
    "jupyter": {
     "outputs_hidden": false
    }
   },
   "outputs": [],
   "source": [
    "# Модуль math_operations.py\n",
    "def calculate():\n",
    "    return \"Результат сложения\"\n",
    "\n",
    "# Модуль string_operations.py\n",
    "def calculate():\n",
    "    return \"Результат соединения строк\"\n",
    "\n",
    "# При импорте придётся использовать алиасы\n",
    "from math_operations import calculate as calc_math\n",
    "from string_operations import calculate as calc_string\n",
    "\n",
    "print(calc_math())  # Выводит \"Результат сложения\"\n",
    "print(calc_string())  # Выводит \"Результат соединения строк\"\n",
    "\n",
    "\n",
    "# Использование модулей как пространств имён\n",
    "import math_operations\n",
    "import string_operations\n",
    "\n",
    "print(math_operations.calculate())  # Выводит \"Результат сложения\"\n",
    "print(string_operations.calculate())  # Выводит \"Результат соединения строк\""
   ]
  }
 ],
 "metadata": {
  "kernelspec": {
   "display_name": "Python 3 (ipykernel)",
   "language": "python",
   "name": "python3"
  },
  "language_info": {
   "codemirror_mode": {
    "name": "ipython",
    "version": 3
   },
   "file_extension": ".py",
   "mimetype": "text/x-python",
   "name": "python",
   "nbconvert_exporter": "python",
   "pygments_lexer": "ipython3",
   "version": "3.11.5"
  }
 },
 "nbformat": 4,
 "nbformat_minor": 4
}
